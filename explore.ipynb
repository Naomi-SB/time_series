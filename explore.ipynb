{
 "cells": [
  {
   "cell_type": "code",
   "execution_count": 1,
   "id": "2c0f3fb3",
   "metadata": {},
   "outputs": [],
   "source": [
    "import pandas as pd\n",
    "from datetime import timedelta, datetime\n",
    "import numpy as np\n",
    "import matplotlib.pyplot as plt\n",
    "import seaborn as sns\n",
    "import statsmodels.api as sm\n",
    "from env import user, password, host\n",
    "import os\n",
    "import prepare as p\n",
    "from acquire import wrangle_store_data\n",
    "import warnings\n",
    "warnings.filterwarnings(\"ignore\")\n",
    "\n",
    "# plotting defaults\n",
    "plt.rc('figure', figsize=(13, 7))\n",
    "plt.style.use('seaborn-whitegrid')\n",
    "plt.rc('font', size=16)"
   ]
  },
  {
   "cell_type": "markdown",
   "id": "8b85b465",
   "metadata": {},
   "source": [
    "### Exercise\n",
    "Do your work for this exercise in a notebook named `explore.ipynb`. Use the techniques in the lesson to explore the **store item demand** dataset and the **opsd** dataset.\n",
    "\n",
    "For the store item demand data, you will need to choose a method of aggregating such that each observation is a unique date. For both datasets you should choose a method of splitting your data and only explore the training split.\n",
    "\n",
    "**Note: When resampling data, use a `mean()` aggregation method.**"
   ]
  },
  {
   "cell_type": "markdown",
   "id": "73a5bead",
   "metadata": {},
   "source": [
    "### Store Item Demand\n",
    "Load your store item demand data using your acquire and/or prepare functions.\n",
    "1. Using a human-based approach, split your dataset into train and test sets.\n",
    "2. Visualize your train-test split.\n",
    "\n",
    "Only use your train data set to perform the following tasks:\n",
    "\n",
    "3. Resample your data and visualize it.\n",
    "4. Creating a rolling (moving) average of your data and visualize it.\n",
    "5. Plot the difference in sales from one day to the next.\n",
    "6. Plot the % difference in sales from one day to the next.\n",
    "6. Plot the % difference in sales from one week to the next.\n",
    "7. Plot the % difference in sales from one month to the next.\n",
    "8. Visualize an autocorrelation plot on a weekly resampling.\n",
    "9. Visualize a seasonal decomposition plot on a weekly resampling."
   ]
  },
  {
   "cell_type": "code",
   "execution_count": 2,
   "id": "ecb2fd26",
   "metadata": {},
   "outputs": [],
   "source": [
    "df=wrangle_store_data()"
   ]
  },
  {
   "cell_type": "code",
   "execution_count": 3,
   "id": "4276919c",
   "metadata": {},
   "outputs": [
    {
     "data": {
      "text/html": [
       "<div>\n",
       "<style scoped>\n",
       "    .dataframe tbody tr th:only-of-type {\n",
       "        vertical-align: middle;\n",
       "    }\n",
       "\n",
       "    .dataframe tbody tr th {\n",
       "        vertical-align: top;\n",
       "    }\n",
       "\n",
       "    .dataframe thead th {\n",
       "        text-align: right;\n",
       "    }\n",
       "</style>\n",
       "<table border=\"1\" class=\"dataframe\">\n",
       "  <thead>\n",
       "    <tr style=\"text-align: right;\">\n",
       "      <th></th>\n",
       "      <th>store_id</th>\n",
       "      <th>item_id</th>\n",
       "      <th>item_upc14</th>\n",
       "      <th>item_upc12</th>\n",
       "      <th>item_brand</th>\n",
       "      <th>item_name</th>\n",
       "      <th>item_price</th>\n",
       "      <th>sale_id</th>\n",
       "      <th>sale_date</th>\n",
       "      <th>sale_amount</th>\n",
       "      <th>store_address</th>\n",
       "      <th>store_zipcode</th>\n",
       "      <th>store_city</th>\n",
       "      <th>store_state</th>\n",
       "    </tr>\n",
       "  </thead>\n",
       "  <tbody>\n",
       "    <tr>\n",
       "      <th>0</th>\n",
       "      <td>1</td>\n",
       "      <td>1</td>\n",
       "      <td>35200264013</td>\n",
       "      <td>35200264013</td>\n",
       "      <td>Riceland</td>\n",
       "      <td>Riceland American Jazmine Rice</td>\n",
       "      <td>0.84</td>\n",
       "      <td>1</td>\n",
       "      <td>2013-01-01</td>\n",
       "      <td>13</td>\n",
       "      <td>12125 Alamo Ranch Pkwy</td>\n",
       "      <td>78253</td>\n",
       "      <td>San Antonio</td>\n",
       "      <td>TX</td>\n",
       "    </tr>\n",
       "  </tbody>\n",
       "</table>\n",
       "</div>"
      ],
      "text/plain": [
       "   store_id  item_id   item_upc14   item_upc12 item_brand  \\\n",
       "0         1        1  35200264013  35200264013   Riceland   \n",
       "\n",
       "                        item_name  item_price  sale_id   sale_date  \\\n",
       "0  Riceland American Jazmine Rice        0.84        1  2013-01-01   \n",
       "\n",
       "   sale_amount           store_address  store_zipcode   store_city store_state  \n",
       "0           13  12125 Alamo Ranch Pkwy          78253  San Antonio          TX  "
      ]
     },
     "execution_count": 3,
     "metadata": {},
     "output_type": "execute_result"
    }
   ],
   "source": [
    "df.head(1)"
   ]
  },
  {
   "cell_type": "markdown",
   "id": "4e3cf72f",
   "metadata": {},
   "source": [
    "1. Using a human-based approach, split your dataset into train and test sets.\n",
    "\n"
   ]
  },
  {
   "cell_type": "code",
   "execution_count": 4,
   "id": "6503c868",
   "metadata": {},
   "outputs": [],
   "source": [
    "df=p.date_to_dt_index(df, 'sale_date')"
   ]
  },
  {
   "cell_type": "code",
   "execution_count": 5,
   "id": "1062cd87",
   "metadata": {},
   "outputs": [],
   "source": [
    "df = p.add_time_labels(df)"
   ]
  },
  {
   "cell_type": "code",
   "execution_count": 6,
   "id": "7dfbc40c",
   "metadata": {},
   "outputs": [],
   "source": [
    "df = p.sales_tot(df)"
   ]
  },
  {
   "cell_type": "code",
   "execution_count": null,
   "id": "8b108f05",
   "metadata": {},
   "outputs": [],
   "source": [
    "df = p.rename(df)"
   ]
  },
  {
   "cell_type": "code",
   "execution_count": 7,
   "id": "29de4ba8",
   "metadata": {},
   "outputs": [
    {
     "data": {
      "text/plain": [
       "[<matplotlib.lines.Line2D at 0x16ccdde50>]"
      ]
     },
     "execution_count": 7,
     "metadata": {},
     "output_type": "execute_result"
    },
    {
     "data": {
      "image/png": "[encoded data removed]",
      "text/plain": [
       "<Figure size 936x504 with 1 Axes>"
      ]
     },
     "metadata": {},
     "output_type": "display_data"
    }
   ],
   "source": [
    "plt.plot(df.sales_total)"
   ]
  },
  {
   "cell_type": "code",
   "execution_count": 8,
   "id": "0a61b4d0",
   "metadata": {},
   "outputs": [
    {
     "data": {
      "text/html": [
       "<div>\n",
       "<style scoped>\n",
       "    .dataframe tbody tr th:only-of-type {\n",
       "        vertical-align: middle;\n",
       "    }\n",
       "\n",
       "    .dataframe tbody tr th {\n",
       "        vertical-align: top;\n",
       "    }\n",
       "\n",
       "    .dataframe thead th {\n",
       "        text-align: right;\n",
       "    }\n",
       "</style>\n",
       "<table border=\"1\" class=\"dataframe\">\n",
       "  <thead>\n",
       "    <tr style=\"text-align: right;\">\n",
       "      <th></th>\n",
       "      <th>store_id</th>\n",
       "      <th>item_id</th>\n",
       "      <th>item_upc14</th>\n",
       "      <th>item_upc12</th>\n",
       "      <th>item_brand</th>\n",
       "      <th>item_name</th>\n",
       "      <th>item_price</th>\n",
       "      <th>sale_id</th>\n",
       "      <th>sale_amount</th>\n",
       "      <th>store_address</th>\n",
       "      <th>store_zipcode</th>\n",
       "      <th>store_city</th>\n",
       "      <th>store_state</th>\n",
       "      <th>day_of_the_week</th>\n",
       "      <th>month</th>\n",
       "      <th>sales_total</th>\n",
       "    </tr>\n",
       "    <tr>\n",
       "      <th>sale_date</th>\n",
       "      <th></th>\n",
       "      <th></th>\n",
       "      <th></th>\n",
       "      <th></th>\n",
       "      <th></th>\n",
       "      <th></th>\n",
       "      <th></th>\n",
       "      <th></th>\n",
       "      <th></th>\n",
       "      <th></th>\n",
       "      <th></th>\n",
       "      <th></th>\n",
       "      <th></th>\n",
       "      <th></th>\n",
       "      <th></th>\n",
       "      <th></th>\n",
       "    </tr>\n",
       "  </thead>\n",
       "  <tbody>\n",
       "    <tr>\n",
       "      <th>2013-01-01</th>\n",
       "      <td>1</td>\n",
       "      <td>1</td>\n",
       "      <td>35200264013</td>\n",
       "      <td>35200264013</td>\n",
       "      <td>Riceland</td>\n",
       "      <td>Riceland American Jazmine Rice</td>\n",
       "      <td>0.84</td>\n",
       "      <td>1</td>\n",
       "      <td>13</td>\n",
       "      <td>12125 Alamo Ranch Pkwy</td>\n",
       "      <td>78253</td>\n",
       "      <td>San Antonio</td>\n",
       "      <td>TX</td>\n",
       "      <td>Tuesday</td>\n",
       "      <td>January</td>\n",
       "      <td>10.92</td>\n",
       "    </tr>\n",
       "  </tbody>\n",
       "</table>\n",
       "</div>"
      ],
      "text/plain": [
       "            store_id  item_id   item_upc14   item_upc12 item_brand  \\\n",
       "sale_date                                                            \n",
       "2013-01-01         1        1  35200264013  35200264013   Riceland   \n",
       "\n",
       "                                 item_name  item_price  sale_id  sale_amount  \\\n",
       "sale_date                                                                      \n",
       "2013-01-01  Riceland American Jazmine Rice        0.84        1           13   \n",
       "\n",
       "                     store_address  store_zipcode   store_city store_state  \\\n",
       "sale_date                                                                    \n",
       "2013-01-01  12125 Alamo Ranch Pkwy          78253  San Antonio          TX   \n",
       "\n",
       "           day_of_the_week    month  sales_total  \n",
       "sale_date                                         \n",
       "2013-01-01         Tuesday  January        10.92  "
      ]
     },
     "execution_count": 8,
     "metadata": {},
     "output_type": "execute_result"
    }
   ],
   "source": [
    "df.head(1)"
   ]
  },
  {
   "cell_type": "code",
   "execution_count": 9,
   "id": "616d2084",
   "metadata": {},
   "outputs": [
    {
     "data": {
      "text/plain": [
       "[<matplotlib.lines.Line2D at 0x16dc1dd60>]"
      ]
     },
     "execution_count": 9,
     "metadata": {},
     "output_type": "execute_result"
    },
    {
     "data": {
      "image/png": "[encoded data removed]",
      "text/plain": [
       "<Figure size 936x504 with 1 Axes>"
      ]
     },
     "metadata": {},
     "output_type": "display_data"
    }
   ],
   "source": [
    "# splitting data at 2016\n",
    "train = df[:'2015'] # includes 2015\n",
    "test = df['2016':] \n",
    "\n",
    "plt.plot(train.sales_total)\n",
    "plt.plot(test.sales_total)"
   ]
  },
  {
   "cell_type": "code",
   "execution_count": 13,
   "id": "bfd439b8",
   "metadata": {},
   "outputs": [
    {
     "data": {
      "text/plain": [
       "(547500, 16)"
      ]
     },
     "execution_count": 13,
     "metadata": {},
     "output_type": "execute_result"
    }
   ],
   "source": [
    "train.shape"
   ]
  },
  {
   "cell_type": "code",
   "execution_count": 14,
   "id": "16c07ded",
   "metadata": {},
   "outputs": [
    {
     "data": {
      "text/plain": [
       "(913000, 16)"
      ]
     },
     "execution_count": 14,
     "metadata": {},
     "output_type": "execute_result"
    }
   ],
   "source": [
    "df.shape"
   ]
  },
  {
   "cell_type": "code",
   "execution_count": null,
   "id": "fef28007",
   "metadata": {},
   "outputs": [],
   "source": []
  }
 ],
 "metadata": {
  "kernelspec": {
   "display_name": "Python 3 (ipykernel)",
   "language": "python",
   "name": "python3"
  },
  "language_info": {
   "codemirror_mode": {
    "name": "ipython",
    "version": 3
   },
   "file_extension": ".py",
   "mimetype": "text/x-python",
   "name": "python",
   "nbconvert_exporter": "python",
   "pygments_lexer": "ipython3",
   "version": "3.9.12"
  }
 },
 "nbformat": 4,
 "nbformat_minor": 5
}
